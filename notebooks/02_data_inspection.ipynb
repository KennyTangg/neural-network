{
 "cells": [
  {
   "cell_type": "markdown",
   "id": "8c6a16b5",
   "metadata": {},
   "source": [
    "# 02 - Data Inspection\n",
    "\n",
    "This notebook is for inspecting the Netflix dataset to understand its structure, detect missing values, and identify potential issues.\n",
    "\n",
    "### 1. Load Dataset\n"
   ]
  },
  {
   "cell_type": "code",
   "execution_count": 149,
   "id": "f2656a7e",
   "metadata": {},
   "outputs": [],
   "source": [
    "import pandas as pd\n",
    "\n",
    "# Load the netflix dataset\n",
    "DATA_PATH = \"../data/netflix_titles.csv\"\n",
    "df = pd.read_csv(DATA_PATH)"
   ]
  },
  {
   "cell_type": "markdown",
   "id": "443e6260",
   "metadata": {},
   "source": [
    "### 2. Dataset Overview\n",
    "Check the column types and the number of non-null entries"
   ]
  },
  {
   "cell_type": "code",
   "execution_count": 150,
   "id": "d9b463b2",
   "metadata": {},
   "outputs": [
    {
     "name": "stdout",
     "output_type": "stream",
     "text": [
      "<class 'pandas.core.frame.DataFrame'>\n",
      "RangeIndex: 8807 entries, 0 to 8806\n",
      "Data columns (total 12 columns):\n",
      " #   Column        Non-Null Count  Dtype \n",
      "---  ------        --------------  ----- \n",
      " 0   show_id       8807 non-null   object\n",
      " 1   type          8807 non-null   object\n",
      " 2   title         8807 non-null   object\n",
      " 3   director      6173 non-null   object\n",
      " 4   cast          7982 non-null   object\n",
      " 5   country       7976 non-null   object\n",
      " 6   date_added    8797 non-null   object\n",
      " 7   release_year  8807 non-null   int64 \n",
      " 8   rating        8803 non-null   object\n",
      " 9   duration      8804 non-null   object\n",
      " 10  listed_in     8807 non-null   object\n",
      " 11  description   8807 non-null   object\n",
      "dtypes: int64(1), object(11)\n",
      "memory usage: 825.8+ KB\n"
     ]
    }
   ],
   "source": [
    "df.info()"
   ]
  },
  {
   "cell_type": "markdown",
   "id": "056ab9db",
   "metadata": {},
   "source": [
    "### 3. Check Missing Values"
   ]
  },
  {
   "cell_type": "code",
   "execution_count": 151,
   "id": "df20a415",
   "metadata": {},
   "outputs": [
    {
     "data": {
      "text/plain": [
       "show_id            0\n",
       "type               0\n",
       "title              0\n",
       "director        2634\n",
       "cast             825\n",
       "country          831\n",
       "date_added        10\n",
       "release_year       0\n",
       "rating             4\n",
       "duration           3\n",
       "listed_in          0\n",
       "description        0\n",
       "dtype: int64"
      ]
     },
     "execution_count": 151,
     "metadata": {},
     "output_type": "execute_result"
    }
   ],
   "source": [
    "df.isnull().sum()"
   ]
  },
  {
   "cell_type": "markdown",
   "id": "f004af18",
   "metadata": {},
   "source": [
    "### 4. Numerical Summary\n",
    "\n",
    "Describe numerical columns. Since `release_year`is the only numeric, we only focus on that."
   ]
  },
  {
   "cell_type": "code",
   "execution_count": 152,
   "id": "7766d515",
   "metadata": {},
   "outputs": [
    {
     "data": {
      "text/html": [
       "<div>\n",
       "<style scoped>\n",
       "    .dataframe tbody tr th:only-of-type {\n",
       "        vertical-align: middle;\n",
       "    }\n",
       "\n",
       "    .dataframe tbody tr th {\n",
       "        vertical-align: top;\n",
       "    }\n",
       "\n",
       "    .dataframe thead th {\n",
       "        text-align: right;\n",
       "    }\n",
       "</style>\n",
       "<table border=\"1\" class=\"dataframe\">\n",
       "  <thead>\n",
       "    <tr style=\"text-align: right;\">\n",
       "      <th></th>\n",
       "      <th>release_year</th>\n",
       "    </tr>\n",
       "  </thead>\n",
       "  <tbody>\n",
       "    <tr>\n",
       "      <th>count</th>\n",
       "      <td>8807.000000</td>\n",
       "    </tr>\n",
       "    <tr>\n",
       "      <th>mean</th>\n",
       "      <td>2014.180198</td>\n",
       "    </tr>\n",
       "    <tr>\n",
       "      <th>std</th>\n",
       "      <td>8.819312</td>\n",
       "    </tr>\n",
       "    <tr>\n",
       "      <th>min</th>\n",
       "      <td>1925.000000</td>\n",
       "    </tr>\n",
       "    <tr>\n",
       "      <th>25%</th>\n",
       "      <td>2013.000000</td>\n",
       "    </tr>\n",
       "    <tr>\n",
       "      <th>50%</th>\n",
       "      <td>2017.000000</td>\n",
       "    </tr>\n",
       "    <tr>\n",
       "      <th>75%</th>\n",
       "      <td>2019.000000</td>\n",
       "    </tr>\n",
       "    <tr>\n",
       "      <th>max</th>\n",
       "      <td>2021.000000</td>\n",
       "    </tr>\n",
       "  </tbody>\n",
       "</table>\n",
       "</div>"
      ],
      "text/plain": [
       "       release_year\n",
       "count   8807.000000\n",
       "mean    2014.180198\n",
       "std        8.819312\n",
       "min     1925.000000\n",
       "25%     2013.000000\n",
       "50%     2017.000000\n",
       "75%     2019.000000\n",
       "max     2021.000000"
      ]
     },
     "execution_count": 152,
     "metadata": {},
     "output_type": "execute_result"
    }
   ],
   "source": [
    "df.describe()"
   ]
  },
  {
   "cell_type": "markdown",
   "id": "bfa307c0",
   "metadata": {},
   "source": [
    "### 5. Check Uniqueness\n",
    "\n",
    "Determine if `show_id` is a unique identifier and count unique values per column."
   ]
  },
  {
   "cell_type": "code",
   "execution_count": 153,
   "id": "5b9335c3",
   "metadata": {},
   "outputs": [
    {
     "name": "stdout",
     "output_type": "stream",
     "text": [
      "True\n"
     ]
    },
    {
     "data": {
      "text/plain": [
       "show_id         8807\n",
       "type               2\n",
       "title           8807\n",
       "director        4528\n",
       "cast            7692\n",
       "country          748\n",
       "date_added      1767\n",
       "release_year      74\n",
       "rating            17\n",
       "duration         220\n",
       "listed_in        514\n",
       "description     8775\n",
       "dtype: int64"
      ]
     },
     "execution_count": 153,
     "metadata": {},
     "output_type": "execute_result"
    }
   ],
   "source": [
    "print(df[\"show_id\"].is_unique)\n",
    "df.nunique()"
   ]
  },
  {
   "cell_type": "markdown",
   "id": "355085c7",
   "metadata": {},
   "source": [
    "### 6. Check Duplicate Rows"
   ]
  },
  {
   "cell_type": "code",
   "execution_count": 154,
   "id": "ac4e5790",
   "metadata": {},
   "outputs": [
    {
     "data": {
      "text/plain": [
       "np.int64(0)"
      ]
     },
     "execution_count": 154,
     "metadata": {},
     "output_type": "execute_result"
    }
   ],
   "source": [
    "df.duplicated().sum()"
   ]
  },
  {
   "cell_type": "markdown",
   "id": "484aea96",
   "metadata": {},
   "source": [
    "### 7. Value Distribution\n",
    "\n",
    "7.1 Country Distribution (Top 20)"
   ]
  },
  {
   "cell_type": "code",
   "execution_count": 155,
   "id": "c4736dd6",
   "metadata": {},
   "outputs": [
    {
     "data": {
      "text/plain": [
       "country\n",
       "United States                    2818\n",
       "India                             972\n",
       "United Kingdom                    419\n",
       "Japan                             245\n",
       "South Korea                       199\n",
       "Canada                            181\n",
       "Spain                             145\n",
       "France                            124\n",
       "Mexico                            110\n",
       "Egypt                             106\n",
       "Turkey                            105\n",
       "Nigeria                            95\n",
       "Australia                          87\n",
       "Taiwan                             81\n",
       "Indonesia                          79\n",
       "Brazil                             77\n",
       "Philippines                        75\n",
       "United Kingdom, United States      75\n",
       "United States, Canada              73\n",
       "Germany                            67\n",
       "Name: count, dtype: int64"
      ]
     },
     "execution_count": 155,
     "metadata": {},
     "output_type": "execute_result"
    }
   ],
   "source": [
    "df[\"country\"].value_counts().head(20)"
   ]
  },
  {
   "cell_type": "markdown",
   "id": "d0d22419",
   "metadata": {},
   "source": [
    "7.2 Type Distribution"
   ]
  },
  {
   "cell_type": "code",
   "execution_count": 156,
   "id": "061b0b16",
   "metadata": {},
   "outputs": [
    {
     "data": {
      "text/plain": [
       "type\n",
       "Movie      6131\n",
       "TV Show    2676\n",
       "Name: count, dtype: int64"
      ]
     },
     "execution_count": 156,
     "metadata": {},
     "output_type": "execute_result"
    }
   ],
   "source": [
    "df[\"type\"].value_counts()"
   ]
  },
  {
   "cell_type": "markdown",
   "id": "e0c8344f",
   "metadata": {},
   "source": [
    "7.3 Rating Distribution"
   ]
  },
  {
   "cell_type": "code",
   "execution_count": 157,
   "id": "024b3454",
   "metadata": {},
   "outputs": [
    {
     "data": {
      "text/plain": [
       "rating\n",
       "TV-MA       3207\n",
       "TV-14       2160\n",
       "TV-PG        863\n",
       "R            799\n",
       "PG-13        490\n",
       "TV-Y7        334\n",
       "TV-Y         307\n",
       "PG           287\n",
       "TV-G         220\n",
       "NR            80\n",
       "G             41\n",
       "TV-Y7-FV       6\n",
       "NaN            4\n",
       "NC-17          3\n",
       "UR             3\n",
       "66 min         1\n",
       "74 min         1\n",
       "84 min         1\n",
       "Name: count, dtype: int64"
      ]
     },
     "execution_count": 157,
     "metadata": {},
     "output_type": "execute_result"
    }
   ],
   "source": [
    "df[\"rating\"].value_counts(dropna=False)"
   ]
  },
  {
   "cell_type": "markdown",
   "id": "858d2610",
   "metadata": {},
   "source": [
    "7.4 Duration Distribution"
   ]
  },
  {
   "cell_type": "code",
   "execution_count": 158,
   "id": "989d5f35",
   "metadata": {},
   "outputs": [
    {
     "data": {
      "text/plain": [
       "duration\n",
       "1 Season     1793\n",
       "2 Seasons     425\n",
       "3 Seasons     199\n",
       "90 min        152\n",
       "97 min        146\n",
       "             ... \n",
       "228 min         1\n",
       "18 min          1\n",
       "205 min         1\n",
       "201 min         1\n",
       "191 min         1\n",
       "Name: count, Length: 220, dtype: int64"
      ]
     },
     "execution_count": 158,
     "metadata": {},
     "output_type": "execute_result"
    }
   ],
   "source": [
    "df[\"duration\"].value_counts()"
   ]
  },
  {
   "cell_type": "markdown",
   "id": "ea11579a",
   "metadata": {},
   "source": [
    "7.5 Release Year Distribution"
   ]
  },
  {
   "cell_type": "code",
   "execution_count": 159,
   "id": "e13184d6",
   "metadata": {},
   "outputs": [
    {
     "data": {
      "text/plain": [
       "release_year\n",
       "2018    1147\n",
       "2017    1032\n",
       "2019    1030\n",
       "2020     953\n",
       "2016     902\n",
       "        ... \n",
       "1961       1\n",
       "1925       1\n",
       "1959       1\n",
       "1966       1\n",
       "1947       1\n",
       "Name: count, Length: 74, dtype: int64"
      ]
     },
     "execution_count": 159,
     "metadata": {},
     "output_type": "execute_result"
    }
   ],
   "source": [
    "df['release_year'].value_counts()"
   ]
  },
  {
   "cell_type": "markdown",
   "id": "40ee3970",
   "metadata": {},
   "source": [
    "7.6 Genre Distribution"
   ]
  },
  {
   "cell_type": "code",
   "execution_count": 160,
   "id": "13e40a9f",
   "metadata": {},
   "outputs": [
    {
     "name": "stdout",
     "output_type": "stream",
     "text": [
      "listed_in\n",
      "Dramas, International Movies                        362\n",
      "Documentaries                                       359\n",
      "Stand-Up Comedy                                     334\n",
      "Comedies, Dramas, International Movies              274\n",
      "Dramas, Independent Movies, International Movies    252\n",
      "Kids' TV                                            220\n",
      "Children & Family Movies                            215\n",
      "Children & Family Movies, Comedies                  201\n",
      "Documentaries, International Movies                 186\n",
      "Dramas, International Movies, Romantic Movies       180\n",
      "Name: count, dtype: int64\n"
     ]
    },
    {
     "data": {
      "text/plain": [
       "listed_in\n",
       "1    2020\n",
       "2    3058\n",
       "3    3729\n",
       "Name: count, dtype: int64"
      ]
     },
     "execution_count": 160,
     "metadata": {},
     "output_type": "execute_result"
    }
   ],
   "source": [
    "print(df[\"listed_in\"].value_counts().head(10))\n",
    "df[\"listed_in\"].str.count(\",\").add(1).value_counts().sort_index()"
   ]
  },
  {
   "cell_type": "markdown",
   "id": "b93583e6",
   "metadata": {},
   "source": [
    "7.7 Duration Type Split (Movie vs TV Show) \n",
    "\n",
    "We check if \"duration\" field is align with \"type\". For example, movies should have minutes, shows should have seasons."
   ]
  },
  {
   "cell_type": "code",
   "execution_count": 161,
   "id": "0b9e003d",
   "metadata": {},
   "outputs": [
    {
     "data": {
      "text/plain": [
       "type     duration  \n",
       "Movie    312 min          1\n",
       "         43 min           1\n",
       "         5 min            1\n",
       "         8 min            1\n",
       "         9 min            1\n",
       "TV Show  1 Season      1793\n",
       "         2 Seasons      425\n",
       "         3 Seasons      199\n",
       "         4 Seasons       95\n",
       "         5 Seasons       65\n",
       "         6 Seasons       33\n",
       "         7 Seasons       23\n",
       "         8 Seasons       17\n",
       "         9 Seasons        9\n",
       "         10 Seasons       7\n",
       "         13 Seasons       3\n",
       "         11 Seasons       2\n",
       "         12 Seasons       2\n",
       "         15 Seasons       2\n",
       "         17 Seasons       1\n",
       "Name: count, dtype: int64"
      ]
     },
     "execution_count": 161,
     "metadata": {},
     "output_type": "execute_result"
    }
   ],
   "source": [
    "df.groupby(\"type\")[\"duration\"].value_counts().tail(20) "
   ]
  },
  {
   "cell_type": "markdown",
   "id": "0f74ef56",
   "metadata": {},
   "source": [
    "### 8. Date Conversion Test\n",
    "Convert `date_added` from string to datetime"
   ]
  },
  {
   "cell_type": "code",
   "execution_count": 162,
   "id": "b7dfe551",
   "metadata": {},
   "outputs": [
    {
     "name": "stdout",
     "output_type": "stream",
     "text": [
      "Invalid 'date_added' entries: 98\n"
     ]
    }
   ],
   "source": [
    "# Test converting 'date_added' to datetime to check for issues\n",
    "test_date_conversion = pd.to_datetime(df[\"date_added\"], errors=\"coerce\")\n",
    "print(\"Invalid 'date_added' entries:\", test_date_conversion.isna().sum())"
   ]
  },
  {
   "cell_type": "markdown",
   "id": "14079b1b",
   "metadata": {},
   "source": [
    "### 9. Column Reference Notes\n",
    "\n",
    " | Column | Description | \n",
    " |----|----| \n",
    " | `show_id` | Unique ID of each title | \n",
    " | `type` | Movie or TV Show | \n",
    " | `title` | Name of the show | \n",
    " | `director` | contain missing values at around 30% | \n",
    " | `cast` | contain missing values | \n",
    " | `country` | \tContains inconsistent/multiple entries | \n",
    " | `date_added` | Needs conversion to datetime | \n",
    " | `release_year` | Only numeric column | \n",
    " | `rating` | Categorical, some formatting issues| \n",
    " | `duration` | String field (minutes or seasons) | \n",
    " | `listed_in` | Genre labels | \n",
    " | `description`| Text summary of the title |"
   ]
  },
  {
   "cell_type": "markdown",
   "id": "58ebf0c9",
   "metadata": {},
   "source": [
    "### 10. Observations Summary\n",
    "\n",
    "- The dataset has 8807 rows and 12 columns.\n",
    "- `show_id` is a unique identifier for each title.\n",
    "- `release_year` is the only numeric column.\n",
    "- `date_added` is an object column but stores date info in string format.\n",
    "- `country` contains multiple countries in a single cell such as \"United Kingdom, United States\".  \n",
    "- `rating` has unexpected values like \"66 min\", which is likely belong in duration\n",
    "- `director` has around 30% missing values.\n",
    "- `cast`, `country` have moderate missing values.\n",
    "- `rating`, `duration` and `date_added` have few missing values."
   ]
  }
 ],
 "metadata": {
  "kernelspec": {
   "display_name": "venv",
   "language": "python",
   "name": "python3"
  },
  "language_info": {
   "codemirror_mode": {
    "name": "ipython",
    "version": 3
   },
   "file_extension": ".py",
   "mimetype": "text/x-python",
   "name": "python",
   "nbconvert_exporter": "python",
   "pygments_lexer": "ipython3",
   "version": "3.12.3"
  }
 },
 "nbformat": 4,
 "nbformat_minor": 5
}
